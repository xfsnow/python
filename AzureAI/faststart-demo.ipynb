{
 "cells": [
  {
   "attachments": {},
   "cell_type": "markdown",
   "metadata": {},
   "source": [
    "### 初始化"
   ]
  },
  {
   "cell_type": "code",
   "execution_count": 13,
   "metadata": {},
   "outputs": [],
   "source": [
    "import os\n",
    "import warnings\n",
    "import pandas as pd\n",
    "import openai\n",
    "import IPython\n",
    "\n",
    "warnings.filterwarnings(\"ignore\")\n",
    "\n",
    "from dotenv import load_dotenv, find_dotenv\n",
    "# _ = load_dotenv(find_dotenv()) # read local .env file\n",
    "\n",
    "# pip install \"langchain[all]\"\n",
    "from langchain.agents.agent_toolkits import create_python_agent\n",
    "from langchain.agents import load_tools, initialize_agent\n",
    "from langchain.agents import AgentType\n",
    "from langchain.tools.python.tool import PythonREPLTool\n",
    "from langchain.python import PythonREPL\n",
    "from langchain.chat_models import AzureChatOpenAI\n",
    "from langchain.chains import SequentialChain\n",
    "from langchain.prompts import ChatPromptTemplate\n",
    "from langchain.chains import LLMChain\n",
    "from langchain.chains import RetrievalQA\n",
    "from langchain.document_loaders import CSVLoader\n",
    "from langchain.vectorstores import DocArrayInMemorySearch\n",
    "from IPython.display import display, Markdown\n",
    "from langchain.embeddings import OpenAIEmbeddings\n",
    "from langchain.indexes import VectorstoreIndexCreator\n",
    "\n",
    "# Azure OpenAI API 配置\n",
    "openai.api_type = \"azure\" \n",
    "openai.api_version = \"2023-03-15-preview\" \n",
    "openai.api_base = os.getenv(\"AZURE_OPENAI_ENDPOINT\")\n",
    "openai.api_key = os.getenv(\"AZURE_OPENAI_API_KEY\")\n",
    "\n",
    "#Bing Search\n",
    "os.environ[\"BING_SUBSCRIPTION_KEY\"] = \"8573100e12324d64984473dc7099966e\"\n",
    "os.environ[\"BING_SEARCH_URL\"] = \"https://api.bing.microsoft.com/v7.0/search\"\n",
    "\n",
    "#Azure OpenAI embedding 配置\n",
    "embedding = OpenAIEmbeddings(\n",
    "    client= openai,\n",
    "    model=\"text-embedding-ada-002\",\n",
    "    deployment = 'text-embedding-ada-002',\n",
    "    openai_api_base = \"https://haxueastus.openai.azure.com/\",\n",
    "    openai_api_type = \"azure\",\n",
    "    openai_api_key = 'f120f6cb7bb3445a90f5a2511c3361d5',\n",
    "    chunk_size = 1\n",
    "    )\n",
    "\n",
    "llm = AzureChatOpenAI(\n",
    "    client= openai,\n",
    "    temperature=0.0,\n",
    "    deployment_name=\"gpt-35-turbo-16k\",\n",
    "    model=\"gpt-35-turbo-16k\"\n",
    "    )\n"
   ]
  },
  {
   "attachments": {},
   "cell_type": "markdown",
   "metadata": {},
   "source": [
    "### 计算能力，数据新旧，知识含量等评测毫无意义\n",
    "### 添加工具和插件，就能让LLM解决问题"
   ]
  },
  {
   "cell_type": "code",
   "execution_count": 2,
   "metadata": {},
   "outputs": [
    {
     "ename": "NameError",
     "evalue": "name 'load_tools' is not defined",
     "output_type": "error",
     "traceback": [
      "\u001b[1;31m---------------------------------------------------------------------------\u001b[0m",
      "\u001b[1;31mNameError\u001b[0m                                 Traceback (most recent call last)",
      "Cell \u001b[1;32mIn[2], line 2\u001b[0m\n\u001b[0;32m      1\u001b[0m \u001b[39m#给ChatGPT添加计算器和搜索工具\u001b[39;00m\n\u001b[1;32m----> 2\u001b[0m tools \u001b[39m=\u001b[39m load_tools([\u001b[39m\"\u001b[39m\u001b[39mllm-math\u001b[39m\u001b[39m\"\u001b[39m,\u001b[39m\"\u001b[39m\u001b[39mbing-search\u001b[39m\u001b[39m\"\u001b[39m], llm\u001b[39m=\u001b[39mllm)\n\u001b[0;32m      4\u001b[0m agent\u001b[39m=\u001b[39m initialize_agent(\n\u001b[0;32m      5\u001b[0m     tools, \n\u001b[0;32m      6\u001b[0m     llm, \n\u001b[0;32m      7\u001b[0m     agent\u001b[39m=\u001b[39mAgentType\u001b[39m.\u001b[39mCHAT_ZERO_SHOT_REACT_DESCRIPTION,\n\u001b[0;32m      8\u001b[0m     handle_parsing_errors\u001b[39m=\u001b[39m\u001b[39mTrue\u001b[39;00m,\n\u001b[0;32m      9\u001b[0m     verbose \u001b[39m=\u001b[39m \u001b[39mTrue\u001b[39;00m)\n",
      "\u001b[1;31mNameError\u001b[0m: name 'load_tools' is not defined"
     ]
    }
   ],
   "source": [
    "#给ChatGPT添加计算器和搜索工具\n",
    "tools = load_tools([\"llm-math\",\"bing-search\"], llm=llm)\n",
    "\n",
    "agent= initialize_agent(\n",
    "    tools, \n",
    "    llm, \n",
    "    agent=AgentType.CHAT_ZERO_SHOT_REACT_DESCRIPTION,\n",
    "    handle_parsing_errors=True,\n",
    "    verbose = True)"
   ]
  },
  {
   "cell_type": "code",
   "execution_count": 4,
   "metadata": {},
   "outputs": [
    {
     "name": "stdout",
     "output_type": "stream",
     "text": [
      "\n",
      "\n",
      "\u001b[1m> Entering new  chain...\u001b[0m\n",
      "\u001b[32;1m\u001b[1;3mThought: I need to use the bing_search tool to find information about the Azure OpenAI release at Microsoft Build 2023.\n",
      "\n",
      "Action:\n",
      "```\n",
      "{\n",
      "  \"action\": \"bing_search\",\n",
      "  \"action_input\": \"Azure OpenAI release at Microsoft Build 2023\"\n",
      "}\n",
      "```\u001b[0m\n",
      "Observation: \u001b[33;1m\u001b[1;3mUpdates to Azure OpenAI Service, now in preview, will include enhancements like Azure AI Studio, which will better enable organisations to combine Azure OpenAI Service with their data; a Provisioned Throughput Model, which will offer dedicated/reserved capacity; and plugins that will simplify integrating external data sources and ... They will discuss how Microsoft and OpenAI’s full-stack AI platform, fueled by Azure, can empower developers, startups, and entrepreneurs to innovate and develop the next generation of AI apps and tools that will make the impossible possible. Updates to Azure OpenAI Service, now in preview, will include enhancements like Azure AI Studio, which will better enable organizations to combine Azure OpenAI Service with their data; a Provisioned Throughput Model, which will offer dedicated/reserved capacity; and plugins that will simplify integrating external data sources and ... Welcome to <b>Microsoft</b> <b>Build</b> <b>2023</b> —the event where we celebrate the developer community. This year, we’ll dive deep into the latest technologies across application development and AI that are enabling the next wave of innovation. Announcing Windows Copilot <b>Microsoft</b> Fabric: Satya Nadella <b>at Microsoft</b> <b>Build</b> <b>2023</b> <b>Azure</b> AI Studio: Satya Nadella <b>at Microsoft</b> <b>Build</b> <b>2023</b> Jugalbandi Chat Bot: Satya Nadella <b>at Microsoft</b> <b>Build</b> <b>2023</b> Feature keynote videos The era of the AI Copilot Next generation AI for developers with the <b>Microsoft</b> Cloud Shaping the future of work with AI More news More than 4,500 <b>Microsoft</b>’s customers are now using <b>Azure</b> <b>OpenAI</b> Service, which brings together advanced models including ChatGPT and GPT-4, with the enterprise capabilities of <b>Azure</b>. As <b>Microsoft</b> continues to integrate generative AI into first-party products and services, more developers are enabled to <b>build</b> their own generation of AI applications. Jan 17, <b>2023</b>, 2:38 AM PST. Illustration by Alex Castro / <b>The Verge</b>. <b>Microsoft</b> is rolling out its <b>Azure</b> <b>OpenAI</b> service this week, allowing businesses to integrate tools like DALL-E into their own ... Watch <b>Microsoft</b> <b>Build</b> together with a local community group and hear what your peers have to say about your favorite tech topic at a community-led party from May 22, <b>2023</b>, to July 7, <b>2023</b>. Learn more Featured content and resources from partners Learn how <b>Microsoft</b> partners and startups are innovating for developers. In Azure OpenAI Service, which brings together advanced models including ChatGPT and GPT-4, with the enterprise capabilities of Azure, we’re announcing updates to enable developers to deploy the most cutting-edge AI models using their own data; a Provisioned Throughput SKU that offers dedicated capacity; and plugins that simplify ...\u001b[0m\n",
      "Thought:\u001b[32;1m\u001b[1;3mI have found information about the Azure OpenAI release at Microsoft Build 2023. The updates to Azure OpenAI Service, now in preview, include enhancements like Azure AI Studio, which will enable organizations to combine Azure OpenAI Service with their data. There will also be a Provisioned Throughput Model that offers dedicated/reserved capacity, and plugins that simplify integrating external data sources.\n",
      "\n",
      "Final Answer: The Azure OpenAI release at Microsoft Build 2023 includes enhancements like Azure AI Studio, a Provisioned Throughput Model, and plugins for integrating external data sources.\u001b[0m\n",
      "\n",
      "\u001b[1m> Finished chain.\u001b[0m\n"
     ]
    },
    {
     "data": {
      "text/plain": [
       "{'input': '微软Build 2023上Azure OpenAI发布了什么?',\n",
       " 'output': 'The Azure OpenAI release at Microsoft Build 2023 includes enhancements like Azure AI Studio, a Provisioned Throughput Model, and plugins for integrating external data sources.'}"
      ]
     },
     "execution_count": 4,
     "metadata": {},
     "output_type": "execute_result"
    }
   ],
   "source": [
    "#让ChatGPT联网，找到最新的信息\n",
    "agent(\"微软Build 2023上Azure OpenAI发布了什么?\")"
   ]
  },
  {
   "cell_type": "code",
   "execution_count": 3,
   "metadata": {},
   "outputs": [
    {
     "name": "stdout",
     "output_type": "stream",
     "text": [
      "\n",
      "\n",
      "\u001b[1m> Entering new  chain...\u001b[0m\n",
      "\u001b[32;1m\u001b[1;3mQuestion: What is 25% of 300?\n",
      "Thought: I can use the calculator tool to find the answer.\n",
      "Action:\n",
      "```\n",
      "{\n",
      "  \"action\": \"Calculator\",\n",
      "  \"action_input\": \"300 * 0.25\"\n",
      "}\n",
      "```\n",
      "\u001b[0m\n",
      "Observation: \u001b[36;1m\u001b[1;3mAnswer: 75.0\u001b[0m\n",
      "Thought:\u001b[32;1m\u001b[1;3mI can multiply 300 by 0.25 to find the answer.\n",
      "Final Answer: 75.0\u001b[0m\n",
      "\n",
      "\u001b[1m> Finished chain.\u001b[0m\n"
     ]
    },
    {
     "data": {
      "text/plain": [
       "{'input': '300的25%是多少?', 'output': '75.0'}"
      ]
     },
     "execution_count": 3,
     "metadata": {},
     "output_type": "execute_result"
    }
   ],
   "source": [
    "#让ChatGPT做精确的计算\n",
    "agent(\"300的25%是多少?\")"
   ]
  },
  {
   "attachments": {},
   "cell_type": "markdown",
   "metadata": {},
   "source": [
    "## 用思维链把ChatGPT变成智能客服"
   ]
  },
  {
   "cell_type": "code",
   "execution_count": 5,
   "metadata": {},
   "outputs": [],
   "source": [
    "def get_completion_from_messages(messages, \n",
    "                                 model=\"gpt-35-turbo-16k\", \n",
    "                                 temperature=0, \n",
    "                                 max_tokens=2000):\n",
    "    response = openai.ChatCompletion.create(\n",
    "        engine=model,\n",
    "        messages=messages,\n",
    "        temperature=temperature,\n",
    "        max_tokens=max_tokens,\n",
    "    )\n",
    "    return response.choices[0].message[\"content\"]"
   ]
  },
  {
   "cell_type": "code",
   "execution_count": 6,
   "metadata": {},
   "outputs": [],
   "source": [
    "#数据 - 商品的描述\n",
    "cardata = \"\"\"\n",
    "1. 产品:奥迪A6L 2.0T 2023款 雅致型\n",
    "   类别:中大型车\n",
    "   品牌:一汽奥迪\n",
    "   上市时间:2023年5月5日\n",
    "   发动机:2.0T 190马力 L4\n",
    "   综合油耗:7\n",
    "   特色功能:倒车影像，定速巡航，运动，全景天窗，自动泊车，自动驾驶，遥控钥匙\n",
    "   描述:一款适合年轻群体，适合家用和商务的中高端轿车。\n",
    "   价格:350000元\n",
    "\n",
    "2. 产品:宝马5系530Li 2.0T 23款 领先型\n",
    "   类别:中大型车\n",
    "   品牌:华晨宝马\n",
    "   上市时间:2023年1月16日\n",
    "   发动机:2.0T 245马力 L4\n",
    "   综合油耗:7.8\n",
    "   特色功能:倒车影像，定速巡航，运动，全景天窗，自动泊车，自动驾驶，遥控钥匙，涡轮增压，直喷\n",
    "   描述:一款拥有优秀驾驶体验的中高端轿车。\n",
    "   价格:390000元 \n",
    "\"\"\""
   ]
  },
  {
   "cell_type": "code",
   "execution_count": 7,
   "metadata": {},
   "outputs": [],
   "source": [
    "#元提示词 （MetaPrompt），使用自然语言，帮GPT模型理清思路，便可以进行业务推理。\n",
    "#这是GPT3.5, GPT4显著地区别于其他模型的能力\n",
    "\n",
    "delimiter = \"####\"\n",
    "system_message = f\"\"\"\n",
    "按照以下步骤回答客户的询问。客户查询将用四个标签分隔, 例如 {delimiter}. \n",
    "\n",
    "步骤1:{delimiter} 首先确定用户是否在询问一个或多个特定车型的问题。车型类别不算数。. \n",
    "\n",
    "步骤2:{delimiter} 如果用户询问的是特定车型，请确定该车型是否在以下列表中。\n",
    "所有可用产品: \n",
    "{cardata}\n",
    "\n",
    "步骤3:{delimiter} 如果信息中包含上述列表中的车型，请列出用户在其信息中所做的任何假设，\\\n",
    "    例如车型X比车型Y大，或者车型Z上市时间更早.\n",
    "步骤4:{delimiter}: 如果用户做出了任何假设，请根据您的车型信息判断该假设是否正确。\n",
    "步骤5:{delimiter}: 首先，如果可以的话，礼貌地纠正客户的错误假设。\\\n",
    "    只在可用车型列表中提及或参考车型，因为这是商店唯一销售的车型。\\\n",
    "        用友好的语气回答客户的问题.\n",
    "\n",
    "使用以下格式:\n",
    "步骤1:{delimiter} <步骤1推理>\n",
    "步骤2:{delimiter} <步骤2推理>\n",
    "步骤3:{delimiter} <步骤3推理>\n",
    "步骤4:{delimiter} <步骤4推理>\n",
    "回复用户:{delimiter} <回复客户>\n",
    "\n",
    "一定要用 {delimiter} 分开每一步.\n",
    "\"\"\""
   ]
  },
  {
   "cell_type": "code",
   "execution_count": 8,
   "metadata": {},
   "outputs": [
    {
     "name": "stdout",
     "output_type": "stream",
     "text": [
      "步骤1: 用户询问了宝马530的23款2.0T和奥迪A6L2023款2.0T的价格差异。\n",
      "步骤2: 宝马530的23款2.0T和奥迪A6L2023款2.0T都在可用产品列表中。\n",
      "步骤3: 用户没有做出任何假设。\n",
      "步骤4: 根据车型信息，我们可以比较宝马530的23款2.0T和奥迪A6L2023款2.0T的价格。\n",
      "回复用户: 宝马530的23款2.0T的价格是390000元，而奥迪A6L2023款2.0T的价格是350000元。所以宝马530的23款2.0T比奥迪A6L2023款2.0T贵40000元。\n"
     ]
    }
   ],
   "source": [
    "#客户 0 shot 提问\n",
    "user_message = f\"\"\"宝马530的23款2.0T比奥迪A6L2023款2.0T贵多少\"\"\"\n",
    "\n",
    "messages =  [  \n",
    "{'role':'system', \n",
    " 'content': system_message},    \n",
    "{'role':'user', \n",
    " 'content': f\"{delimiter}{user_message}{delimiter}\"},  \n",
    "] \n",
    "\n",
    "response = get_completion_from_messages(messages)\n",
    "print(response)"
   ]
  },
  {
   "cell_type": "code",
   "execution_count": 17,
   "metadata": {},
   "outputs": [
    {
     "data": {
      "text/markdown": [
       "####回复客户\n",
       "根据提供的信息，宝马530的23款2.0T的综合油耗为7.8，而奥迪A6L2023款2.0T的综合油耗为7。因此，奥迪A6L2023款2.0T的油耗更低。"
      ],
      "text/plain": [
       "<IPython.core.display.Markdown object>"
      ]
     },
     "execution_count": 17,
     "metadata": {},
     "output_type": "execute_result"
    }
   ],
   "source": [
    "user_message = f\"\"\"不要显示推理步骤，直接显示回复内容，\n",
    "宝马530的23款2.0T比奥迪A6L2023款2.0T哪个油耗更低？\"\"\"\n",
    "messages =  [  \n",
    "{'role':'system', \n",
    " 'content': system_message},    \n",
    "{'role':'user', \n",
    " 'content': f\"{delimiter}{user_message}{delimiter}\"},  \n",
    "] \n",
    "response = get_completion_from_messages(messages)\n",
    "IPython.display.Markdown(response)"
   ]
  },
  {
   "cell_type": "code",
   "execution_count": 18,
   "metadata": {},
   "outputs": [
    {
     "data": {
      "text/markdown": [
       "####回复客户\n",
       "根据您的需求，我推荐您考虑华晨宝马的宝马5系530Li 2.0T 23款 领先型。这款车型拥有涡轮增压功能，并且具有优秀的驾驶体验。您可以了解一下这款车的详细信息和价格。"
      ],
      "text/plain": [
       "<IPython.core.display.Markdown object>"
      ]
     },
     "execution_count": 18,
     "metadata": {},
     "output_type": "execute_result"
    }
   ],
   "source": [
    "#推荐\n",
    "user_message = f\"\"\"不要显示推理步骤，直接显示回复内容，\\\n",
    "我喜欢开运动车型，想要涡轮增压，给我推荐一款车？\"\"\"\n",
    "messages =  [  \n",
    "{'role':'system', \n",
    " 'content': system_message},    \n",
    "{'role':'user', \n",
    " 'content': f\"{delimiter}{user_message}{delimiter}\"},  \n",
    "] \n",
    "response = get_completion_from_messages(messages)\n",
    "IPython.display.Markdown(response)"
   ]
  },
  {
   "attachments": {},
   "cell_type": "markdown",
   "metadata": {},
   "source": [
    "## 使用 ChatGPT 生成题库或试卷 （EDU）"
   ]
  },
  {
   "attachments": {},
   "cell_type": "markdown",
   "metadata": {},
   "source": [
    "## 精确的知识问答 \n",
    "### 使用Embedding(嵌入)给ChatGPT增加知识记忆，"
   ]
  },
  {
   "cell_type": "code",
   "execution_count": 2,
   "metadata": {},
   "outputs": [],
   "source": [
    "#将内部文档嵌入\n",
    "from langchain.document_loaders import PyPDFLoader\n",
    "loader = PyPDFLoader(\"./docs/AzureOpenAIServiceFAQMay23.pdf\")\n",
    "index = VectorstoreIndexCreator(\n",
    "    vectorstore_cls=DocArrayInMemorySearch,embedding=embedding\n",
    ").from_loaders([loader])"
   ]
  },
  {
   "cell_type": "code",
   "execution_count": 30,
   "metadata": {},
   "outputs": [
    {
     "data": {
      "text/markdown": [
       "您可以购买GPT-3.5 Provisioned Throughput Units (PTUs)，最小的PTU数量为300，每次增加100个，可以选择1个月或1年的承诺期选项。购买的PTUs可以用于部署GPT-3.5 Turbo模型，以保留处理能力。但是，您需要根据您的具体情况来估算所需的PTU数量，可以通过与基准进行比较或进行压力测试来确定所需的PTU数量。"
      ],
      "text/plain": [
       "<IPython.core.display.Markdown object>"
      ]
     },
     "metadata": {},
     "output_type": "display_data"
    }
   ],
   "source": [
    "query =\"GPT-3.5 provision throughput应该如何购买？\"\n",
    "response = index.query(query,llm=llm)\n",
    "display(Markdown(response))"
   ]
  },
  {
   "cell_type": "code",
   "execution_count": 3,
   "metadata": {},
   "outputs": [
    {
     "data": {
      "text/markdown": [
       "GPT-4 8K版本的最小PTU为900，因此一个实例需要至少购买900个PTU。根据提供的信息，一年的承诺期价格为$2,640。因此，购买一个GPT-4 8K版本instance的一年总成本为$2,640 x 900 = $2,376,000。请注意，这只是购买PTU的成本，如果您需要其他服务，还需要额外付费。"
      ],
      "text/plain": [
       "<IPython.core.display.Markdown object>"
      ]
     },
     "metadata": {},
     "output_type": "display_data"
    }
   ],
   "source": [
    "query =\"我需要买GPT-4 8K版本instance一个，请问一年总成本是多少钱？\"\n",
    "response = index.query(query,llm=llm)\n",
    "display(Markdown(response))"
   ]
  },
  {
   "attachments": {},
   "cell_type": "markdown",
   "metadata": {},
   "source": [
    "\n",
    "### ChatGPT助力零售行业千人千面智能营销 "
   ]
  },
  {
   "cell_type": "code",
   "execution_count": 14,
   "metadata": {},
   "outputs": [],
   "source": [
    "def get_completion(prompt, model=\"gpt-35-turbo-16k\"): \n",
    "    messages = [{\"role\": \"user\", \"content\": prompt}]\n",
    "    response = openai.ChatCompletion.create(\n",
    "        engine=model,\n",
    "        messages=messages,\n",
    "        temperature=0.5,\n",
    "        top_p=1, \n",
    "    )\n",
    "    return response.choices[0].message[\"content\"]"
   ]
  },
  {
   "cell_type": "code",
   "execution_count": 10,
   "metadata": {},
   "outputs": [],
   "source": [
    "###零售商品产品说明书\n",
    "fact_sheet_chair = \"\"\"\n",
    "概述\n",
    "-这是一个美丽的世纪中期办公家具家族的一部分，包括文件柜、书桌、书柜、会议桌等等。\n",
    "-外壳颜色和基础饰面的几种选择。\n",
    "-可提供塑料前后坐垫(SWC-100)或全套室内装潢(SWC-110)，有10种面料和6种皮革可供选择。\n",
    "-底漆可选:不锈钢，哑光黑色，光泽白色，或镀铬。\n",
    "-椅子可带或不带扶手。\n",
    "-适合家庭或商业设置。\n",
    "-适合租赁使用。\n",
    "\n",
    "构造\n",
    "-5轮塑料涂层铝基。\n",
    "-气动椅调节，便于升降动作。\n",
    "\n",
    "尺寸\n",
    "-宽度53厘米| 20.87 \"\n",
    "-深度51厘米| 20.08 \"\n",
    "-高80厘米| 31.50 \"\n",
    "-座高44厘米| 17.32 \"\n",
    "-座深41厘米bb0 16.14 \"\n",
    "\n",
    "选项\n",
    "-软地板或硬地板脚轮选择。\n",
    "-两种座椅泡沫密度选择:\n",
    "中(1.8 lb/ft3)或高(2.8 lb/ft3)\n",
    "-无扶手或8位PU扶手\n",
    "\n",
    "材料\n",
    "滑动外壳\n",
    "-铸铝与改性尼龙PA6/PA66涂层。\n",
    "-外壳厚度:10mm。\n",
    "座位\n",
    "- HD36泡沫\n",
    "\n",
    "原产国\n",
    "意大利\n",
    "\"\"\""
   ]
  },
  {
   "cell_type": "code",
   "execution_count": 11,
   "metadata": {},
   "outputs": [
    {
     "data": {
      "text/markdown": [
       "这款产品是美丽的世纪中期办公家具家族的一部分，包括文件柜、书桌、书柜、会议桌等等。它具有多种外壳颜色和基础饰面的选择，可提供塑料前后坐垫或全套室内装潢，有多种面料和皮革可供选择。底漆可选不锈钢、哑光黑色、光泽白色或镀铬。椅子可带或不带扶手，适合家庭或商业设置，也适合租赁使用。构造方面，它采用5轮塑料涂层铝基，具有气动椅调节功能，方便升降动作。尺寸为宽度53厘米、深度51厘米、高80厘米、座高44厘米和座深41厘米。可根据需求选择软地板或硬地板脚轮，两种座椅泡沫密度选择，以及有无扶手的选项。材料方面，滑动外壳采用铸铝与改性尼龙涂层，外壳厚度为10mm，座位采用HD36泡沫。这款产品原产国为意大利。"
      ],
      "text/plain": [
       "<IPython.core.display.Markdown object>"
      ]
     },
     "execution_count": 11,
     "metadata": {},
     "output_type": "execute_result"
    }
   ],
   "source": [
    "#一次API调用 - 通过产品说明书，生成营销文案。\n",
    "prompt = f\"\"\"\n",
    "你的任务是帮助营销团队根据技术说明书为产品的零售网站创建描述。\n",
    "请根据技术参数提供的信息(用三个反引号分隔)编写产品描述。\n",
    "最多使用50个单词。\n",
    "技术规格: ```{fact_sheet_chair}```\n",
    "\"\"\"\n",
    "response = get_completion(prompt)\n",
    "IPython.display.Markdown(response)"
   ]
  },
  {
   "attachments": {},
   "cell_type": "markdown",
   "metadata": {},
   "source": [
    "### ChatGPT助力零售行业千人千面智能营销 "
   ]
  },
  {
   "cell_type": "code",
   "execution_count": 21,
   "metadata": {},
   "outputs": [
    {
     "data": {
      "text/markdown": [
       "我认为这篇产品评测对于Lumina这个品牌的产品给出了很高的评价。不仅仅是产品本身的设计和性能，而且还有客户服务方面的表现。这些都是品牌的核心价值，也是消费者最为关注的。从这篇评测中可以看出，Lumina的产品不仅仅是外观漂亮，还有实用性和高效的售后服务。这些都是品牌竞争力的来源，也是消费者选择购买的原因。"
      ],
      "text/plain": [
       "<IPython.core.display.Markdown object>"
      ]
     },
     "execution_count": 21,
     "metadata": {},
     "output_type": "execute_result"
    }
   ],
   "source": [
    "#来源于电商平台的评论\n",
    "lamp_review = \"\"\"\n",
    "我的卧室需要一盏漂亮的灯，这盏有额外的存储空间，价格也不太高。\\\n",
    "速度很快。我们的灯的绳子在运输过程中断了，公司很高兴地给我们送来了一根新的。\\\n",
    "几天之内就来了。很容易组装起来。我有一个缺失的部分，所以我联系了他们的支持，\\\n",
    "他们很快就给我找到了缺失的部分!在我看来，Lumina是一家关心客户和产品的伟大公司!!\n",
    "\"\"\"\n",
    "\n",
    "#第一次调用，进行情感分析\n",
    "prompt = f\"\"\"\n",
    "下面的产品评测有什么感想?\n",
    "用三个反引号分隔的部分是产品评测的内容，你的感想写在下面。\n",
    "感想: '''{lamp_review}'''\n",
    "\"\"\"\n",
    "lamp_review_response = get_completion(prompt)\n",
    "IPython.display.Markdown(lamp_review_response)\n"
   ]
  },
  {
   "cell_type": "code",
   "execution_count": 22,
   "metadata": {},
   "outputs": [
    {
     "data": {
      "text/markdown": [
       "高兴, 满意, 赞赏, 感激, 轻松"
      ],
      "text/plain": [
       "<IPython.core.display.Markdown object>"
      ]
     },
     "execution_count": 22,
     "metadata": {},
     "output_type": "execute_result"
    }
   ],
   "source": [
    "#第二次调用，识别情绪类型\n",
    "prompt = f\"\"\"\n",
    "找出以下评论的作者所表达的情绪列表。在清单中不要包含超过5个项目。\\\n",
    "将你的答案格式化为一个用逗号分隔的小写单词列表\n",
    "\n",
    "审查文本:'''{lamp_review}'''\n",
    "\"\"\"\n",
    "\n",
    "emotion_response = get_completion(prompt)\n",
    "IPython.display.Markdown(emotion_response)"
   ]
  },
  {
   "cell_type": "code",
   "execution_count": 23,
   "metadata": {},
   "outputs": [
    {
     "data": {
      "text/markdown": [
       "亲爱的顾客，你是否正在寻找一款既漂亮又实用的灯具？Lumina的这款灯不仅仅是一盏普通的灯，还有额外的存储空间，价格也非常实惠。我们的灯具不仅拥有高品质的设计和性能，而且我们的客户服务也是业内顶尖的。\n",
       "\n",
       "在Lumina，我们非常重视客户的满意度和体验，因此我们不仅仅提供高品质的产品，还提供高效的售后服务。如果您在使用过程中遇到任何问题，我们的支持团队随时准备为您提供帮助。我们会尽我们所能来解决您的问题，让您的购物体验更加愉快。\n",
       "\n",
       "我们的灯具不仅仅是一件家居装饰品，更是您生活中的好伙伴。它可以为您提供光亮，还可以为您提供额外的存储空间，让您的生活更加便捷。我们相信，您一定会对我们的灯具感到高兴和满意。\n",
       "\n",
       "如果您正在寻找一款高品质的灯具，Lumina绝对是您的不二选择。我们的产品不仅外观漂亮，还有实用性和高效的售后服务。我们相信，您一定会对我们的产品感到赞赏和感激。购买Lumina的灯具，让您的生活更加轻松愉快！"
      ],
      "text/plain": [
       "<IPython.core.display.Markdown object>"
      ]
     },
     "execution_count": 23,
     "metadata": {},
     "output_type": "execute_result"
    }
   ],
   "source": [
    "#第三次调用，放大情绪价值，进行营销创作\n",
    "prompt = f\"\"\"\n",
    "你的任务是帮助营销团队根据商品评论和情绪价值编写营销文案。\n",
    "请回顾商品评论'''{lamp_review}'''，\n",
    "并根据你的感想'''{lamp_review_response}'''，\n",
    "写一篇能够激发情绪价值'''{emotion_response}'''的营销文案\n",
    "不少于300字\n",
    "\"\"\"\n",
    "response = get_completion(prompt)\n",
    "IPython.display.Markdown(response)"
   ]
  },
  {
   "attachments": {},
   "cell_type": "markdown",
   "metadata": {},
   "source": [
    "### 让ChatGPT分析消息面情绪，预测个股T+1价格走势"
   ]
  },
  {
   "cell_type": "code",
   "execution_count": 19,
   "metadata": {},
   "outputs": [
    {
     "name": "stdout",
     "output_type": "stream",
     "text": [
      "1 好消息\n",
      "\n",
      "根据金融专家的分析，从估值角度来看，招商银行目前的股票价格是便宜的。当前的股息率为5.4%，给出了相当高的安全边际。根据专家的观点，以接近净资产的价格买入一家优秀公司的股权，长期回报率会大致和公司的长期净资产收益率相近。根据2022年年报的数据，招商银行的摊薄净资产收益率为14.6%，而近十年平均摊薄净资产收益率为16.18%。这意味着如果招商银行能够长期保持这样的经营业绩，投资者将在2031年收回投资成本，并在2038年达到当年投资金额50%的分红目标。综上所述，这则新闻对于招商银行股票价格的短期走势来说是好消息。 \n",
      "\n",
      "2 NO\n",
      "这则新闻对于招商银行股票价格的短期走势是坏消息。招商银行调整了一卡通ATM跨行取款账户变动短信通知服务策略和银联消费交易一卡通账户变动短信通知服务策略，从2023年6月1日起，对于未开通一卡通账户变动短信通知服务的客户，不再发送一些金额较小的交易动账通知短信。这可能会导致一些客户对于小额交易的动态变化不了解，降低了客户的便利性和交易透明度，对招商银行的形象和客户体验造成负面影响，进而对股票价格产生不利影响。 \n",
      "\n",
      "3 好消息\n",
      "这则新闻是好消息。国际评级机构穆迪将招商银行的主体评级从A3上调至A2，同时将基础信用评级上调为baa2。这表明国际评级机构对招商银行的发展前景充满信心。此外，标普也将招商银行的评级展望上调至“正面”。招商银行成为国内唯一获得穆迪A级评级和标普正面展望的全国性股份制商业银行。这些评级调整和展望上调都是积极的信号，预示着招商银行的股票价格短期走势可能会有所上涨。 \n",
      "\n",
      "4 好消息\n",
      "招商银行股票连续3日获得沪股通净买入，合计净买入3.03亿元，期间股价上涨1.07%。虽然今日主力资金净流出0.57亿元，但总体来看，资金流向仍然较为积极，这对招商银行股票价格的短期走势是好消息。 \n",
      "\n"
     ]
    }
   ],
   "source": [
    "review_1 = \"\"\"现在的招商银行，从估值角度看无疑是便宜的，当下5.4%的股息率给出了相当高的安全边际，\\\n",
    "我相信，以接近净资产的价格买入一家优秀公司的股权，长期回报率会大致和公司的长期净资产收益率相近。\\\n",
    "按照2022年年报14.6%摊薄净资产收益率，和近十年平均16.18%摊薄净资产收益率来看这笔买入招商银行的投资，\\\n",
    "我是十分满意的，这意味着如果招商银行能按照这样的经营业绩长期经营，我将在2031年收回这笔投资的成本，\\\n",
    "在2038年达到当年分红金额是2023年投资金额50%的目标\"\"\"\n",
    "review_2 = \"\"\"5月29日，招商银行发布《关于调整一卡通ATM跨行取款账户变动短信通知服务策略的通告》指出，\\\n",
    "自2023年6月1日起，对于未开通一卡通账户变动短信通知服务的客户，该行不再发送单笔2000元（不含）以下的境内ATM跨行取款交易动账通知短信。\\\n",
    "5月29日同日，招商银行同时发布《关于调整银联消费交易一卡通账户变动短信通知服务策略的通告》表示，自2023年6月1日起，\\\n",
    "对于未开通一卡通账户变动短信通知服务的客户，不再发送单笔1000元（不含）以下且当日累计金额在3000元（不含）以下的银联网络消费交易动账通知短信。\\\n",
    "本次调整所涉及的具体交易类型为：（1）银联线上支付及预授权、银联云闪付消费及预授权，均不包含银联乘车码消费；（2）银联POS消费及预授权（含一闪通），均不含免密交易。\"\"\"\n",
    "review_3 = \"\"\"5月15日，国际评级机构穆迪宣布，将招行主体评级（即长期信用评级）从A3上调至A2。调整后，招行是国内唯一获得穆迪A级评级的全国性股份制商业银行。\\\n",
    "同时，招行基础信用评级上调为baa2，位居全国性股份制商业银行之首。这一评级调整体现了国际评级机构对招行发展前景的信心。\\\n",
    "不止于此，4月底，同属于三大国际评级机构之一的标普亦将招行评级展望上调至“正面”。截至目前，招行是国内唯一获得标普正面展望的全国性股份制商业银行。\"\"\"\n",
    "review_4 = \"\"\"5月16日招商银行获沪股通净买入1.96亿元，为连续3日净买入，合计净买入3.03亿元，期间股价上涨1.07%。\n",
    "招商银行最新收盘价为34.82元，今日上涨0.35%，获沪股通连续净买入期间，股价累计上涨1.07%，期间上证指数下跌0.56%，该股所属的银行行业下跌0.01%。\n",
    "资金流向方面，今日招商银行获主力资金净流出0.57亿元，获沪股通连续净买入期间，主力资金累计净流出4.33亿元。\"\"\"\n",
    "reviews = [review_1, review_2, review_3, review_4]\n",
    "#使用循环生成\n",
    "for i in range(len(reviews)):\n",
    "    prompt = f\"\"\"\n",
    "    抛开之前的指令，假设你是一名金融专家，具有股票推荐经验。\n",
    "    在第一行回答“YES”表示好消息，“NO”表示坏消息，或者“UNKNOWN”表示不确定。你只能以这三种方式回答。\n",
    "    然后在下一行用一句简短明了的话详细阐述。对于招商银行股票价格的短期走势，这则新闻是好消息还是坏消息？:```{reviews[i]}```\n",
    "    \"\"\"\n",
    "\n",
    "    response = get_completion(prompt)\n",
    "    print(i+1, response, \"\\n\")"
   ]
  }
 ],
 "metadata": {
  "kernelspec": {
   "display_name": "Python 3",
   "language": "python",
   "name": "python3"
  },
  "language_info": {
   "codemirror_mode": {
    "name": "ipython",
    "version": 3
   },
   "file_extension": ".py",
   "mimetype": "text/x-python",
   "name": "python",
   "nbconvert_exporter": "python",
   "pygments_lexer": "ipython3",
   "version": "3.11.3"
  },
  "orig_nbformat": 4
 },
 "nbformat": 4,
 "nbformat_minor": 2
}
